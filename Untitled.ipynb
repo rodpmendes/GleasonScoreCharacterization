{
 "cells": [
  {
   "cell_type": "code",
   "execution_count": 5,
   "metadata": {},
   "outputs": [
    {
     "data": {
      "image/png": "[encoded data removed]",
      "text/plain": [
       "<matplotlib.figure.Figure at 0x1e1187a7be0>"
      ]
     },
     "metadata": {},
     "output_type": "display_data"
    }
   ],
   "source": [
    "import numpy as np\n",
    "from skimage.draw import bezier_curve\n",
    "import misc\n",
    "\n",
    "img = np.zeros((10, 10), dtype=np.uint8)\n",
    "rr, cc = bezier_curve(1, 5, 5, -2, 8, 8, 2)\n",
    "img[rr, cc] = 1\n",
    "misc.show_img(img)"
   ]
  },
  {
   "cell_type": "code",
   "execution_count": 11,
   "metadata": {},
   "outputs": [
    {
     "data": {
      "image/png": "[encoded data removed]",
      "text/plain": [
       "<matplotlib.figure.Figure at 0x1e1198692b0>"
      ]
     },
     "metadata": {},
     "output_type": "display_data"
    }
   ],
   "source": [
    "from skimage.draw import circle_perimeter\n",
    "img = np.zeros((100, 100), dtype=np.uint8)\n",
    "rr, cc = circle_perimeter(40, 40, 15)\n",
    "img[rr, cc] = 1\n",
    "misc.show_img(img)"
   ]
  }
 ],
 "metadata": {
  "kernelspec": {
   "display_name": "Python 3",
   "language": "python",
   "name": "python3"
  },
  "language_info": {
   "codemirror_mode": {
    "name": "ipython",
    "version": 3
   },
   "file_extension": ".py",
   "mimetype": "text/x-python",
   "name": "python",
   "nbconvert_exporter": "python",
   "pygments_lexer": "ipython3",
   "version": "3.6.4"
  }
 },
 "nbformat": 4,
 "nbformat_minor": 2
}
