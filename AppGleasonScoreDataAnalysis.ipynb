{
 "cells": [
  {
   "cell_type": "code",
   "execution_count": 5,
   "metadata": {},
   "outputs": [
    {
     "name": "stdout",
     "output_type": "stream",
     "text": [
      "The autoreload extension is already loaded. To reload it, use:\n",
      "  %reload_ext autoreload\n"
     ]
    }
   ],
   "source": [
    "%load_ext autoreload\n",
    "%autoreload 2\n",
    "\n",
    "import networkx as nx\n",
    "import numpy as np\n",
    "from operator import itemgetter\n",
    "\n",
    "import matplotlib.pyplot as plt\n",
    "from sklearn import neighbors, datasets, metrics\n",
    "from sklearn.model_selection import StratifiedKFold\n",
    "\n",
    "from scipy.stats import zscore\n",
    "\n",
    "from scipy import ndimage as ndi\n",
    "import misc\n",
    "import data_analysis_func as func\n"
   ]
  },
  {
   "cell_type": "markdown",
   "metadata": {},
   "source": [
    "# Parameters"
   ]
  },
  {
   "cell_type": "code",
   "execution_count": 11,
   "metadata": {},
   "outputs": [
    {
     "name": "stdout",
     "output_type": "stream",
     "text": [
      "Number of NORMAL glands:  2240\n",
      "Number of DEMARCATED glands:  1124\n"
     ]
    }
   ],
   "source": [
    "radius = 350\n",
    "number_of_samples = 320                    # Number of samples to be validated in folds\n",
    "\n",
    "#path_img = '3'\n",
    "path_img = 'S07_46186 10X_20151028_59'\n",
    "path = 'prostate_marked/' + path_img + '/results_radius_' + str(radius) + '/'\n",
    "\n",
    "G_read = nx.read_gml(path + 'grafo_glands_properties_' + str(radius) + 'r.gml')\n",
    "nodes, nodes_demarcated = func.display_gland_numbers(G_read)"
   ]
  },
  {
   "cell_type": "markdown",
   "metadata": {},
   "source": [
    "# Cross Validation"
   ]
  },
  {
   "cell_type": "code",
   "execution_count": 12,
   "metadata": {},
   "outputs": [
    {
     "ename": "TypeError",
     "evalue": "get_table_properties() takes from 2 to 3 positional arguments but 6 were given",
     "output_type": "error",
     "traceback": [
      "\u001b[1;31m---------------------------------------------------------------------------\u001b[0m",
      "\u001b[1;31mTypeError\u001b[0m                                 Traceback (most recent call last)",
      "\u001b[1;32m<ipython-input-12-ae9ed0cb9825>\u001b[0m in \u001b[0;36m<module>\u001b[1;34m()\u001b[0m\n\u001b[0;32m     34\u001b[0m     \u001b[0mproperties_names\u001b[0m \u001b[1;33m=\u001b[0m \u001b[1;33m[\u001b[0m\u001b[1;34m'idx'\u001b[0m\u001b[1;33m,\u001b[0m \u001b[1;34m'area'\u001b[0m\u001b[1;33m,\u001b[0m \u001b[1;34m'diameter'\u001b[0m\u001b[1;33m,\u001b[0m \u001b[1;34m'perimeter'\u001b[0m\u001b[1;33m,\u001b[0m \u001b[1;34m'eccentricity'\u001b[0m\u001b[1;33m,\u001b[0m \u001b[1;34m'solidity'\u001b[0m\u001b[1;33m,\u001b[0m \u001b[1;34m'degree'\u001b[0m\u001b[1;33m,\u001b[0m \u001b[1;34m'betweenness'\u001b[0m\u001b[1;33m,\u001b[0m \u001b[1;34m'strength'\u001b[0m\u001b[1;33m]\u001b[0m\u001b[1;33m\u001b[0m\u001b[0m\n\u001b[0;32m     35\u001b[0m \u001b[1;33m\u001b[0m\u001b[0m\n\u001b[1;32m---> 36\u001b[1;33m \u001b[0mtable_properties_norm\u001b[0m \u001b[1;33m=\u001b[0m \u001b[0mfunc\u001b[0m\u001b[1;33m.\u001b[0m\u001b[0mget_table_properties\u001b[0m\u001b[1;33m(\u001b[0m\u001b[0mnodes\u001b[0m\u001b[1;33m,\u001b[0m \u001b[0mnodes_demarcated\u001b[0m\u001b[1;33m,\u001b[0m \u001b[0mproperties_names\u001b[0m\u001b[1;33m,\u001b[0m \u001b[0mnumber_of_samples\u001b[0m\u001b[1;33m,\u001b[0m \u001b[1;32mTrue\u001b[0m\u001b[1;33m,\u001b[0m \u001b[1;32mFalse\u001b[0m\u001b[1;33m)\u001b[0m\u001b[1;33m\u001b[0m\u001b[0m\n\u001b[0m\u001b[0;32m     37\u001b[0m \u001b[1;33m\u001b[0m\u001b[0m\n\u001b[0;32m     38\u001b[0m \u001b[1;31m# Class target to Kfold\u001b[0m\u001b[1;33m\u001b[0m\u001b[1;33m\u001b[0m\u001b[0m\n",
      "\u001b[1;31mTypeError\u001b[0m: get_table_properties() takes from 2 to 3 positional arguments but 6 were given"
     ]
    }
   ],
   "source": [
    "k = 3                                       # Number of neighbors for the k-nearest neighbors classifier\n",
    "n_classes = 2                               # Number of classes in the dataset\n",
    "n_splits = 5                                # Number of Folds\n",
    "\n",
    "print_classes = False                       # Option to visualize fold data class\n",
    "print_all_accuracy = True                   # Option to visualize fold by fold accuracy\n",
    "\n",
    "\n",
    "#Properties to be validated\n",
    "# Shapes  - 1\n",
    "# Network - 2\n",
    "# All     - 3\n",
    "# All idx - 4\n",
    "\n",
    "props_type = 4\n",
    "properties_names = None\n",
    "\n",
    "\n",
    "\n",
    "# Shapes props\n",
    "if props_type == 1:\n",
    "    properties_names = ['area', 'diameter', 'perimeter', 'eccentricity', 'solidity']\n",
    "\n",
    "# Network props\n",
    "elif props_type == 2:\n",
    "    properties_names = ['degree', 'betweenness', 'strength']\n",
    "\n",
    "# Shapes and Network props\n",
    "elif props_type == 3:\n",
    "    properties_names = ['area', 'diameter', 'perimeter', 'eccentricity', 'solidity', 'degree', 'betweenness', 'strength']\n",
    "\n",
    "# All Props with IDX\n",
    "else:\n",
    "    properties_names = ['idx', 'area', 'diameter', 'perimeter', 'eccentricity', 'solidity', 'degree', 'betweenness', 'strength']    \n",
    "\n",
    "table_properties_norm = func.get_table_properties(nodes, nodes_demarcated, properties_names, number_of_samples, True, False)\n",
    "\n",
    "# Class target to Kfold\n",
    "n_target = np.array([0]*number_of_samples + [1]*number_of_samples)"
   ]
  },
  {
   "cell_type": "code",
   "execution_count": null,
   "metadata": {},
   "outputs": [],
   "source": [
    "table_properties_norm = func.remove_idx_from_table_properties(properties_names, table_properties_norm)"
   ]
  },
  {
   "cell_type": "code",
   "execution_count": null,
   "metadata": {},
   "outputs": [],
   "source": [
    "X = table_properties_norm\n",
    "y = n_target\n",
    "acc_sum = 0\n",
    "\n",
    "skf = StratifiedKFold(n_splits=n_splits)\n",
    "skf.get_n_splits(X, y)\n",
    "\n",
    "\n",
    "list_test_index = []\n",
    "list_classes_pred = []\n",
    "\n",
    "for train_index, test_index in skf.split(X, y):\n",
    "   \n",
    "    list_test_index.append(test_index)\n",
    "    \n",
    "    X_train, X_test = X[train_index], X[test_index]\n",
    "    y_train, y_test = y[train_index], y[test_index]\n",
    "    \n",
    "    properties_train = X_train\n",
    "    properties_validate = X_test\n",
    "    classes_train = y_train\n",
    "    classes_validate = y_test\n",
    "    \n",
    "    # we create an instance of Neighbours Classifier and fit the data.\n",
    "    clf = neighbors.KNeighborsClassifier(k)\n",
    "    clf.fit(properties_train, classes_train)\n",
    "\n",
    "    # Predict the class using the validation set\n",
    "    classes_pred = clf.predict(properties_validate)\n",
    "\n",
    "    list_classes_pred.append(classes_pred)\n",
    "    \n",
    "    # Get accuracy\n",
    "    acc = metrics.accuracy_score(classes_validate, classes_pred)\n",
    "    acc_sum = acc_sum + acc\n",
    "    \n",
    "    if(print_classes):\n",
    "        print(\"TRAIN:\", train_index, \"TEST:\", test_index)\n",
    "        print(\"X_train:\",X_train)\n",
    "        print(\"X_test:\", X_test)\n",
    "        print(\"y_train:\", y_train)\n",
    "        print(\"y_test\", y_test)\n",
    "    \n",
    "    if(print_all_accuracy):\n",
    "        print(\"Accuracy: \", acc)\n",
    "        \n",
    "print(\"\")\n",
    "print(properties_names)\n",
    "print(\"\\nMean: \" + str(acc_sum/n_splits))"
   ]
  },
  {
   "cell_type": "markdown",
   "metadata": {},
   "source": [
    "# Colorize Glands"
   ]
  },
  {
   "cell_type": "code",
   "execution_count": null,
   "metadata": {},
   "outputs": [],
   "source": [
    "img_to_colorize = 'prostate_marked/' + path_img + '/MASK - RGB.png'\n",
    "img = plt.imread(img_to_colorize)\n",
    "misc.show_img(img)\n",
    "\n",
    "img = 255-(255*plt.imread(img_to_colorize)[:,:,0]).astype(np.uint8)\n",
    "misc.show_img(img)"
   ]
  },
  {
   "cell_type": "code",
   "execution_count": null,
   "metadata": {},
   "outputs": [],
   "source": [
    "# Get Color objects color GREEN (not demarcated) and color RED (demarcated) otherwise ORANGE(undefined)\n",
    "position, class_colors, measurements = func.get_color_inputs(G_read)"
   ]
  },
  {
   "cell_type": "code",
   "execution_count": null,
   "metadata": {},
   "outputs": [],
   "source": [
    "# Get Color objects according to the colors defined in `class_colors`\n",
    "img_colored1 = func.color_objects(img, position, class_colors, print_progress=True)"
   ]
  },
  {
   "cell_type": "code",
   "execution_count": null,
   "metadata": {
    "scrolled": true
   },
   "outputs": [],
   "source": [
    "plt.figure(figsize=(30,15))\n",
    "plt.imshow(img_colored1)\n",
    "plt.savefig(path + 'results_colorize/img_colored_two_classes.png')"
   ]
  },
  {
   "cell_type": "code",
   "execution_count": null,
   "metadata": {},
   "outputs": [],
   "source": [
    "list_position = []\n",
    "list_class_colors = []\n",
    "list_measurements = []\n",
    "list_confusion_matrix = []\n",
    "\n",
    "for idx_list in range(len(list_classes_pred)):\n",
    "    position, class_colors, measurements, confusion_matrix = func.get_color_inputs_by_cross_results(G_read, list_classes_pred[idx_list], list_test_index[idx_list], idx_selected)\n",
    "    list_position.append(position)\n",
    "    list_class_colors.append(class_colors)\n",
    "    list_measurements.append(measurements)\n",
    "    list_confusion_matrix.append(confusion_matrix)"
   ]
  },
  {
   "cell_type": "code",
   "execution_count": null,
   "metadata": {},
   "outputs": [],
   "source": [
    "true_negative = 0\n",
    "false_negative = 0\n",
    "false_positive = 0\n",
    "true_positive = 0\n",
    "for i in range(len(list_confusion_matrix)):\n",
    "    true_negative += list_confusion_matrix[i][0][0]\n",
    "    false_negative += list_confusion_matrix[i][0][1]\n",
    "    false_positive += list_confusion_matrix[i][1][0]\n",
    "    true_positive += list_confusion_matrix[i][1][1]\n",
    "\n",
    "mean_confusion_matrix = [ [true_negative, false_negative],\n",
    "                          [false_positive, true_positive] ]\n",
    "print (mean_confusion_matrix)\n",
    "print(np.matrix(mean_confusion_matrix).sum())"
   ]
  },
  {
   "cell_type": "code",
   "execution_count": null,
   "metadata": {},
   "outputs": [],
   "source": [
    "imgs_colored_cross = []\n",
    "for idx_list in range(len(list_classes_pred)):\n",
    "    colored_cross = func.color_objects(img, list_position[idx_list], list_class_colors[idx_list], print_progress=False)\n",
    "    imgs_colored_cross.append(colored_cross)\n",
    "    print(idx_list)    "
   ]
  },
  {
   "cell_type": "code",
   "execution_count": null,
   "metadata": {},
   "outputs": [],
   "source": [
    "for idx, img_cross in enumerate(imgs_colored_cross):\n",
    "    plt.figure(figsize=(30,15))\n",
    "    plt.imshow(img_cross)\n",
    "    plt.savefig(path + 'results_colorize_' + str(props_type) + '/img_colored_cross_idx_' + str(idx) + '.png')"
   ]
  },
  {
   "cell_type": "code",
   "execution_count": null,
   "metadata": {},
   "outputs": [],
   "source": [
    "# Color objects according to the values contained in `measurements`\n",
    "imgs_colored_cross = []\n",
    "for idx_list in range(len(list_classes_pred)):\n",
    "    colored_cross = func.color_objects(img, list_position[idx_list], values=list_measurements[idx_list], colormap='viridis', print_progress=False)\n",
    "    imgs_colored_cross.append(colored_cross)\n",
    "    print(idx_list)    "
   ]
  },
  {
   "cell_type": "code",
   "execution_count": null,
   "metadata": {},
   "outputs": [],
   "source": [
    "for idx, img_cross in enumerate(imgs_colored_cross):\n",
    "    plt.figure(figsize=(30,15))\n",
    "    plt.imshow(img_cross)\n",
    "    plt.savefig(path + 'results_colorize_' + str(props_type) + '/img_colored_cross_measurements_idx_' + str(idx) + '.png')"
   ]
  },
  {
   "cell_type": "code",
   "execution_count": null,
   "metadata": {},
   "outputs": [],
   "source": []
  },
  {
   "cell_type": "code",
   "execution_count": null,
   "metadata": {},
   "outputs": [],
   "source": []
  }
 ],
 "metadata": {
  "kernelspec": {
   "display_name": "Python 3",
   "language": "python",
   "name": "python3"
  },
  "language_info": {
   "codemirror_mode": {
    "name": "ipython",
    "version": 3
   },
   "file_extension": ".py",
   "mimetype": "text/x-python",
   "name": "python",
   "nbconvert_exporter": "python",
   "pygments_lexer": "ipython3",
   "version": "3.6.4"
  }
 },
 "nbformat": 4,
 "nbformat_minor": 2
}
