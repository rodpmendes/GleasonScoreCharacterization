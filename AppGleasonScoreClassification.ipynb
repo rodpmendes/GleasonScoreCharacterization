{
 "cells": [
  {
   "cell_type": "code",
   "execution_count": 1,
   "metadata": {},
   "outputs": [],
   "source": [
    "%load_ext autoreload\n",
    "%autoreload 2\n",
    "from skimage import io\n",
    "import numpy as np\n",
    "from scipy.spatial import Delaunay\n",
    "import networkx as nx\n",
    "import matplotlib.pyplot as plt\n",
    "import voronoi\n",
    "import misc\n",
    "from misc import show_img\n",
    "import prop"
   ]
  },
  {
   "cell_type": "code",
   "execution_count": 2,
   "metadata": {},
   "outputs": [],
   "source": [
    "def calculate_all_shape_props(imgs_mask_paths, shape_props_to_measure):\n",
    "    '''Calculate shape properties for glands in mask images given by `imgs_mask_paths`'''\n",
    "    \n",
    "    all_shape_props = []\n",
    "    for img_mask_path in imgs_mask_paths:\n",
    "        img_mask = io.imread(img_mask_path)\n",
    "        img_mask = misc.mask_correction(img_mask)\n",
    "\n",
    "        # Shape properties\n",
    "        shape_props = prop.get_shape_props_from_mask(img_mask, shape_props_to_measure)\n",
    "        all_shape_props.append(shape_props)\n",
    "        \n",
    "    # Combine all shape properties into a single list\n",
    "    all_shape_props_concat, _ = combine_class_values(all_shape_props)\n",
    "        \n",
    "    # Calculate mean and standard deviation\n",
    "    shape_props_mean = np.mean(all_shape_props_concat, axis=0)\n",
    "    shape_props_std = np.std(all_shape_props_concat, axis=0)\n",
    "        \n",
    "    return all_shape_props, shape_props_mean, shape_props_std\n",
    "\n",
    "def calculate_all_net_props(imgs_mask_paths, all_shape_props_norm, alpha=0, att_idx=None):\n",
    "    '''Calculate graph properties for glands in mask images given by `imgs_mask_paths`'''\n",
    "    \n",
    "    # First, generate all networks\n",
    "    all_nets = []\n",
    "    indices = [0]\n",
    "    for img_idx, img_mask_path in enumerate(imgs_mask_paths):\n",
    "        img_mask = io.imread(img_mask_path)\n",
    "        img_mask = misc.mask_correction(img_mask)\n",
    "\n",
    "        # Calculate Voronoi\n",
    "        g, points, cell_collection = voronoi.voronoi_from_mask(img_mask)\n",
    "        \n",
    "        all_nets.append(g)\n",
    "        indices.append(indices[-1]+g.vcount())\n",
    "        \n",
    "    # Concatenate the positions of all glands in all images\n",
    "    all_pos_concat = []\n",
    "    for g in all_nets:\n",
    "        all_pos_concat.extend(g.vs[\"pos\"])\n",
    "        \n",
    "    all_pos_concat_norm = prop.normalize_values(all_pos_concat)\n",
    "    \n",
    "    # Separate the values for each image\n",
    "    all_pos_norm = separate_class_values(all_pos_concat_norm, indices)\n",
    "        \n",
    "    # Network properties\n",
    "    all_net_props = []\n",
    "    for img_idx, img_mask_path in enumerate(imgs_mask_paths):\n",
    "        \n",
    "        pos_nodes = all_pos_norm[img_idx]\n",
    "        shape_props = all_shape_props_norm[img_idx]\n",
    "        g = all_nets[img_idx]\n",
    "        \n",
    "        nxgraph = misc.igraph_to_nx(g)\n",
    "        \n",
    "        if(len(shape_props[ : , 0 ]) != g.vcount()):\n",
    "            print('ALERT! PROPERTIES TABLE MUST HAVE THE SAME NUMBER OF GRAPH VERTICES')\n",
    "        else:\n",
    "            print(str(g.vcount()) + ' Glands')\n",
    "\n",
    "        # Edge weights    \n",
    "        weight_dict = prop.calculate_weight_all(nxgraph, pos_nodes, shape_props, att_idx=att_idx, normalize_pos=False, \n",
    "                                                normalize_att=False)\n",
    "        weights = list(weight_dict.values())\n",
    "        nx.set_edge_attributes(nxgraph, weight_dict, 'weight')\n",
    "\n",
    "        #Network Properties\n",
    "        net_props = prop.get_graph_props(nxgraph)\n",
    "        all_net_props.append(net_props)\n",
    "        \n",
    "    # Combine all values\n",
    "    all_net_props_concat, _ = combine_class_values(all_net_props)\n",
    "        \n",
    "    net_props_mean = np.mean(all_net_props_concat, axis=0)\n",
    "    net_props_std = np.std(all_net_props_concat, axis=0)\n",
    "        \n",
    "    return all_net_props, net_props_mean, net_props_std\n",
    "    \n",
    "def combine_class_values(values_list):\n",
    "    '''Combine properties measured for different images into a single list. `values_list` is a list\n",
    "    where each element is another list containing features measured for an image.\n",
    "    `indices` will contain the indices that can be used to separate the data into different classes\n",
    "    again.\n",
    "    '''\n",
    "    \n",
    "    values_list_concat = []\n",
    "    indices = [0]\n",
    "    for values in values_list:\n",
    "        values_list_concat += list(values)\n",
    "        indices.append(indices[-1]+len(values))\n",
    "    return values_list_concat, indices\n",
    "\n",
    "def separate_class_values(values, indices):\n",
    "    '''Separate values into different classes.'''\n",
    "    \n",
    "    values_sep = []\n",
    "    for idx in range(len(indices)-1):\n",
    "        first_index = indices[idx]\n",
    "        last_index = indices[idx+1]\n",
    "        values_sep.append(values[first_index:last_index])\n",
    "    return values_sep\n",
    "\n",
    "def combine_features(values1, values2):\n",
    "    '''Combine two sets of features intoa single table (ex: shape properties and net properties).'''\n",
    "    \n",
    "    if len(values1)!=len(values2):\n",
    "        raise ValueError('Cannot combine features, number of rows must be equal')\n",
    "    \n",
    "    combined_values = []\n",
    "    for idx in range(len(values1)):\n",
    "        combined_values.append(values1 + values2)\n",
    "        \n",
    "    return combined_values"
   ]
  },
  {
   "cell_type": "code",
   "execution_count": 3,
   "metadata": {
    "code_folding": []
   },
   "outputs": [],
   "source": [
    "# Parameters\n",
    "shape_props_to_measure = ['area', 'solidity', 'eccentricity', 'equivalent_diameter', 'perimeter']\n",
    "\n",
    "# Define data paths\n",
    "root_img_path = 'img'\n",
    "result_path = 'results'\n",
    "img_mask_names = ['S07_46186_lower_10X_Snapshot_20151028_59-- NORMAL - MASK.jpg', \n",
    "                  'S07_46186_lower_10X_Snapshot_20151028_59-- CA 3 - MASK.jpg']\n",
    "\n",
    "imgs_mask_paths = [root_img_path+'/'+fn for fn in img_mask_names]"
   ]
  },
  {
   "cell_type": "code",
   "execution_count": 4,
   "metadata": {},
   "outputs": [
    {
     "name": "stdout",
     "output_type": "stream",
     "text": [
      "52 Glands\n",
      "186 Glands\n"
     ]
    }
   ],
   "source": [
    "shape_props, shape_props_mean, shape_props_std = calculate_all_shape_props(imgs_mask_paths, shape_props_to_measure)\n",
    "# Normalize shape properties using calculated mean and standard deviation\n",
    "shape_props_norm = []\n",
    "for sp in shape_props:\n",
    "    shape_props_norm.append(prop.normalize_values(sp, shape_props_mean, shape_props_std))\n",
    "\n",
    "net_props, net_props_mean, net_props_std = calculate_all_net_props(imgs_mask_paths, shape_props_norm)\n",
    "# Normalize net properties using calculated mean and standard deviation\n",
    "net_props_norm = []\n",
    "for np in net_props:\n",
    "    net_props_norm.append(prop.normalize_values(np, net_props_mean, net_props_std))"
   ]
  },
  {
   "cell_type": "markdown",
   "metadata": {},
   "source": [
    "# Combine Shapes and Network Properties"
   ]
  },
  {
   "cell_type": "code",
   "execution_count": 20,
   "metadata": {},
   "outputs": [],
   "source": [
    "allProps = []\n",
    "for row in range(g.vcount()):\n",
    "    rowProp = []\n",
    "    \n",
    "    #Adding shape properties\n",
    "    for colShape in range(len(shape_props[0])):\n",
    "        rowProp.append(shape_props[row][colShape])\n",
    "        \n",
    "    #Adding network properties\n",
    "    for colNet in range(len(net_props[0])):\n",
    "        rowProp.append(net_props[row][colNet])\n",
    "    \n",
    "    allProps.append(rowProp)   \n",
    "    \n",
    "allProps = np.array(allProps)\n",
    "\n",
    "#Normalize values\n",
    "allPropsNormalized = np.zeros( (len(allProps[:,0]), len(allProps[0])) )\n",
    "for col in range(len(allProps[0])):\n",
    "    allPropsNormalized[:,col] = prop.normalize_values(allProps[:,col])"
   ]
  },
  {
   "cell_type": "code",
   "execution_count": 22,
   "metadata": {},
   "outputs": [],
   "source": [
    "if isHealth:\n",
    "    healthProps = allProps\n",
    "    healthPropsShape = shape_props\n",
    "    healthPropsNet = net_props\n",
    "else:\n",
    "    unHealthProps = allProps\n",
    "    unHealthPropsShape = shape_props\n",
    "    unHealthPropsNet = net_props"
   ]
  },
  {
   "cell_type": "code",
   "execution_count": 23,
   "metadata": {},
   "outputs": [
    {
     "ename": "NameError",
     "evalue": "name 'unHealthPropsShape' is not defined",
     "output_type": "error",
     "traceback": [
      "\u001b[1;31m---------------------------------------------------------------------------\u001b[0m",
      "\u001b[1;31mNameError\u001b[0m                                 Traceback (most recent call last)",
      "\u001b[1;32m<ipython-input-23-9962b0597aab>\u001b[0m in \u001b[0;36m<module>\u001b[1;34m()\u001b[0m\n\u001b[1;32m----> 1\u001b[1;33m \u001b[0mnumUnhealth\u001b[0m \u001b[1;33m=\u001b[0m \u001b[0mlen\u001b[0m\u001b[1;33m(\u001b[0m\u001b[0munHealthPropsShape\u001b[0m\u001b[1;33m)\u001b[0m\u001b[1;33m\u001b[0m\u001b[1;33m\u001b[0m\u001b[0m\n\u001b[0m\u001b[0;32m      2\u001b[0m \u001b[0mnumHealth\u001b[0m \u001b[1;33m=\u001b[0m \u001b[0mlen\u001b[0m\u001b[1;33m(\u001b[0m\u001b[0mhealthPropsShape\u001b[0m\u001b[1;33m)\u001b[0m\u001b[1;33m\u001b[0m\u001b[1;33m\u001b[0m\u001b[0m\n\u001b[0;32m      3\u001b[0m \u001b[0mprint\u001b[0m\u001b[1;33m(\u001b[0m\u001b[1;34m\"Unhealth properties: \"\u001b[0m \u001b[1;33m+\u001b[0m \u001b[0mstr\u001b[0m\u001b[1;33m(\u001b[0m\u001b[0mnumUnhealth\u001b[0m\u001b[1;33m)\u001b[0m\u001b[1;33m)\u001b[0m\u001b[1;33m\u001b[0m\u001b[1;33m\u001b[0m\u001b[0m\n\u001b[0;32m      4\u001b[0m \u001b[0mprint\u001b[0m\u001b[1;33m(\u001b[0m\u001b[1;34m\"Health properties: \"\u001b[0m \u001b[1;33m+\u001b[0m \u001b[0mstr\u001b[0m\u001b[1;33m(\u001b[0m\u001b[0mnumHealth\u001b[0m\u001b[1;33m)\u001b[0m\u001b[1;33m)\u001b[0m\u001b[1;33m\u001b[0m\u001b[1;33m\u001b[0m\u001b[0m\n",
      "\u001b[1;31mNameError\u001b[0m: name 'unHealthPropsShape' is not defined"
     ]
    }
   ],
   "source": [
    "numUnhealth = len(unHealthPropsShape)\n",
    "numHealth = len(healthPropsShape)\n",
    "print(\"Unhealth properties: \" + str(numUnhealth))\n",
    "print(\"Health properties: \" + str(numHealth))"
   ]
  },
  {
   "cell_type": "markdown",
   "metadata": {},
   "source": [
    "# Combine Unhealth and Health Properties"
   ]
  },
  {
   "cell_type": "code",
   "execution_count": 24,
   "metadata": {},
   "outputs": [
    {
     "ename": "NameError",
     "evalue": "name 'unHealthProps' is not defined",
     "output_type": "error",
     "traceback": [
      "\u001b[1;31m---------------------------------------------------------------------------\u001b[0m",
      "\u001b[1;31mNameError\u001b[0m                                 Traceback (most recent call last)",
      "\u001b[1;32m<ipython-input-24-3686644d3169>\u001b[0m in \u001b[0;36m<module>\u001b[1;34m()\u001b[0m\n\u001b[0;32m      1\u001b[0m \u001b[0mallPropsCombined\u001b[0m \u001b[1;33m=\u001b[0m \u001b[1;33m[\u001b[0m\u001b[1;33m]\u001b[0m\u001b[1;33m\u001b[0m\u001b[1;33m\u001b[0m\u001b[0m\n\u001b[1;32m----> 2\u001b[1;33m \u001b[1;32mfor\u001b[0m \u001b[0midx\u001b[0m\u001b[1;33m,\u001b[0m \u001b[0mprop\u001b[0m \u001b[1;32min\u001b[0m \u001b[0menumerate\u001b[0m\u001b[1;33m(\u001b[0m\u001b[0munHealthProps\u001b[0m\u001b[1;33m)\u001b[0m\u001b[1;33m:\u001b[0m\u001b[1;33m\u001b[0m\u001b[1;33m\u001b[0m\u001b[0m\n\u001b[0m\u001b[0;32m      3\u001b[0m     \u001b[0mallPropsCombined\u001b[0m\u001b[1;33m.\u001b[0m\u001b[0mappend\u001b[0m\u001b[1;33m(\u001b[0m\u001b[0mprop\u001b[0m\u001b[1;33m)\u001b[0m\u001b[1;33m\u001b[0m\u001b[1;33m\u001b[0m\u001b[0m\n\u001b[0;32m      4\u001b[0m \u001b[1;32mfor\u001b[0m \u001b[0midx\u001b[0m\u001b[1;33m,\u001b[0m \u001b[0mprop\u001b[0m \u001b[1;32min\u001b[0m \u001b[0menumerate\u001b[0m\u001b[1;33m(\u001b[0m\u001b[0mhealthProps\u001b[0m\u001b[1;33m)\u001b[0m\u001b[1;33m:\u001b[0m\u001b[1;33m\u001b[0m\u001b[1;33m\u001b[0m\u001b[0m\n\u001b[0;32m      5\u001b[0m     \u001b[0mallPropsCombined\u001b[0m\u001b[1;33m.\u001b[0m\u001b[0mappend\u001b[0m\u001b[1;33m(\u001b[0m\u001b[0mprop\u001b[0m\u001b[1;33m)\u001b[0m\u001b[1;33m\u001b[0m\u001b[1;33m\u001b[0m\u001b[0m\n",
      "\u001b[1;31mNameError\u001b[0m: name 'unHealthProps' is not defined"
     ]
    }
   ],
   "source": [
    "allPropsCombined = []\n",
    "for idx, prop in enumerate(unHealthProps):\n",
    "    allPropsCombined.append(prop)\n",
    "for idx, prop in enumerate(healthProps):\n",
    "    allPropsCombined.append(prop)    \n",
    "    \n",
    "allPropsShapeCombined = []\n",
    "for idx, prop in enumerate(unHealthPropsShape):\n",
    "    allPropsShapeCombined.append(prop)\n",
    "for idx, prop in enumerate(healthPropsShape):\n",
    "    allPropsShapeCombined.append(prop)\n",
    "\n",
    "allPropsNetCombined = []\n",
    "for idx, prop in enumerate(unHealthPropsNet):\n",
    "    allPropsNetCombined.append(prop)    \n",
    "for idx, prop in enumerate(healthPropsNet):\n",
    "    allPropsNetCombined.append(prop)\n",
    "    \n",
    "print(\"All properties: \" + str(len(allPropsCombined)))\n",
    "print(\"All properties of shapes: \" + str(len(allPropsShapeCombined)))\n",
    "print(\"All properties of network: \" + str(len(allPropsNetCombined)))"
   ]
  },
  {
   "cell_type": "markdown",
   "metadata": {},
   "source": [
    "# PCA Scatter Plot Blue Points are Health and Red Point are Unhealth"
   ]
  },
  {
   "cell_type": "code",
   "execution_count": 827,
   "metadata": {},
   "outputs": [],
   "source": [
    "def plot_hist_two_arrays(arr1, arr2, num_bins, alpha=0.5):\n",
    "\n",
    "    min_val = np.min((arr1.min(), arr2.min()))\n",
    "    max_val = np.max((arr1.max(), arr2.max()))\n",
    "    print(min_val)\n",
    "    print(max_val)\n",
    "    bins = np.linspace(min_val, max_val, num_bins)\n",
    "\n",
    "    plt.figure()\n",
    "    plt.hist(arr1, bins, density=True, alpha=alpha, color='red')\n",
    "    plt.hist(arr2, bins, density=True, alpha=alpha, color='blue')"
   ]
  },
  {
   "cell_type": "code",
   "execution_count": 828,
   "metadata": {},
   "outputs": [],
   "source": [
    "def plot_pca_two_arrays(arr1, arr2, nro1, nro2, alpha=0.5):\n",
    "    colors = ['red']*nro1 + ['blue']*nro2\n",
    "\n",
    "    plt.figure()\n",
    "    fig = plt.figure(figsize=(20,15))\n",
    "    plt.subplot(3, 4, 1)\n",
    "    plt.scatter(arr1, arr2, color=colors, alpha=alpha, lw=2)\n",
    "    plt.title('GLCM')\n",
    "    plt.xlabel('PCA 1')\n",
    "    plt.ylabel('PCA 2')"
   ]
  },
  {
   "cell_type": "code",
   "execution_count": 829,
   "metadata": {},
   "outputs": [],
   "source": [
    "propsAll = np.array(allPropsCombined)\n",
    "PCAdataAll, eigenvaluesAll, main_eigenvectorsAll = misc.PCA(propsAll, 2, False)\n",
    "\n",
    "propsShape = np.array(allPropsShapeCombined)\n",
    "PCAdataShape, eigenvaluesShape, main_eigenvectorsShape = misc.PCA(propsShape, 2, False)\n",
    "\n",
    "propsNet = np.array(allPropsNetCombined)\n",
    "PCAdataNet, eigenvaluesNet, main_eigenvectorsNet = misc.PCA(propsNet, 2, False)"
   ]
  },
  {
   "cell_type": "markdown",
   "metadata": {},
   "source": [
    "# Only one property"
   ]
  },
  {
   "cell_type": "code",
   "execution_count": 830,
   "metadata": {},
   "outputs": [],
   "source": [
    "column = propsAll[:,0]\n",
    "columnNorm = zscore(column)\n",
    "\n",
    "columnUnhealth = column[0:186]\n",
    "columnHealth = column[186:len(column)]\n",
    "\n",
    "columnUnhealthNorm = columnNorm[0:186]\n",
    "columnHealthNorm = columnNorm[186:len(columnNorm)]"
   ]
  },
  {
   "cell_type": "code",
   "execution_count": 831,
   "metadata": {},
   "outputs": [
    {
     "name": "stdout",
     "output_type": "stream",
     "text": [
      "62.0\n",
      "38631.0\n"
     ]
    },
    {
     "data": {
      "image/png": "[encoded data removed]",
      "text/plain": [
       "<matplotlib.figure.Figure at 0x2101f956908>"
      ]
     },
     "metadata": {},
     "output_type": "display_data"
    }
   ],
   "source": [
    "plot_hist_two_arrays(columnUnhealth, columnHealth, 100, alpha=0.5)"
   ]
  },
  {
   "cell_type": "code",
   "execution_count": 832,
   "metadata": {},
   "outputs": [
    {
     "name": "stdout",
     "output_type": "stream",
     "text": [
      "-0.6869049632033163\n",
      "6.957577142951671\n"
     ]
    },
    {
     "data": {
      "image/png": "[encoded data removed]",
      "text/plain": [
       "<matplotlib.figure.Figure at 0x2101fcff668>"
      ]
     },
     "metadata": {},
     "output_type": "display_data"
    }
   ],
   "source": [
    "plot_hist_two_arrays(columnUnhealthNorm, columnHealthNorm, 100, alpha=0.5)"
   ]
  },
  {
   "cell_type": "code",
   "execution_count": 833,
   "metadata": {},
   "outputs": [],
   "source": [
    "import pandas as pd\n",
    "from sklearn.preprocessing import MinMaxScaler\n",
    "\n",
    "cols = ['COLUMN']\n",
    "data = pd.DataFrame(column, columns = cols)\n",
    "\n",
    "scaler = MinMaxScaler(feature_range = (0,1))\n",
    "scaled_data = scaler.fit_transform(data[cols])\n",
    "\n",
    "scaledUnhealth = scaled_data[0:186]\n",
    "scaledHealth = scaled_data[186:len(scaled_data)]"
   ]
  },
  {
   "cell_type": "code",
   "execution_count": 834,
   "metadata": {},
   "outputs": [
    {
     "name": "stdout",
     "output_type": "stream",
     "text": [
      "0.0\n",
      "0.9999999999999999\n"
     ]
    },
    {
     "data": {
      "image/png": "[encoded data removed]",
      "text/plain": [
       "<matplotlib.figure.Figure at 0x21022ed1710>"
      ]
     },
     "metadata": {},
     "output_type": "display_data"
    }
   ],
   "source": [
    "plot_hist_two_arrays(scaledUnhealth, scaledHealth, 100, alpha=0.5)"
   ]
  },
  {
   "cell_type": "markdown",
   "metadata": {},
   "source": [
    "### - PCA Only Shapes Properties"
   ]
  },
  {
   "cell_type": "code",
   "execution_count": 835,
   "metadata": {},
   "outputs": [
    {
     "name": "stdout",
     "output_type": "stream",
     "text": [
      "-10.01601672386196\n",
      "2.9569802114572186\n"
     ]
    },
    {
     "data": {
      "image/png": "[encoded data removed]",
      "text/plain": [
       "<matplotlib.figure.Figure at 0x21022dc0cf8>"
      ]
     },
     "metadata": {},
     "output_type": "display_data"
    }
   ],
   "source": [
    "plot_hist_two_arrays(PCAdataShape[:,0], PCAdataShape[:,1], num_bins=100)"
   ]
  },
  {
   "cell_type": "markdown",
   "metadata": {},
   "source": [
    "### - PCA Only Net Properties"
   ]
  },
  {
   "cell_type": "code",
   "execution_count": 836,
   "metadata": {},
   "outputs": [
    {
     "name": "stdout",
     "output_type": "stream",
     "text": [
      "-3.3361422849482922\n",
      "3.9195883582549333\n"
     ]
    },
    {
     "data": {
      "image/png": "[encoded data removed]",
      "text/plain": [
       "<matplotlib.figure.Figure at 0x2101be07940>"
      ]
     },
     "metadata": {},
     "output_type": "display_data"
    }
   ],
   "source": [
    "plot_hist_two_arrays(PCAdataNet[:,0], PCAdataNet[:,1], num_bins=100)"
   ]
  },
  {
   "cell_type": "markdown",
   "metadata": {},
   "source": [
    "### - PCA Shapes and Network"
   ]
  },
  {
   "cell_type": "code",
   "execution_count": 837,
   "metadata": {},
   "outputs": [
    {
     "name": "stdout",
     "output_type": "stream",
     "text": [
      "-10.898246718251318\n",
      "4.028532932329881\n"
     ]
    },
    {
     "data": {
      "image/png": "[encoded data removed]",
      "text/plain": [
       "<matplotlib.figure.Figure at 0x2101a173f60>"
      ]
     },
     "metadata": {},
     "output_type": "display_data"
    }
   ],
   "source": [
    "plot_hist_two_arrays(PCAdataAll[:,0], PCAdataAll[:,1], num_bins=100)"
   ]
  },
  {
   "cell_type": "code",
   "execution_count": 838,
   "metadata": {},
   "outputs": [
    {
     "data": {
      "text/plain": [
       "<matplotlib.figure.Figure at 0x2101fe3fc88>"
      ]
     },
     "metadata": {},
     "output_type": "display_data"
    },
    {
     "data": {
      "image/png": "[encoded data removed]",
      "text/plain": [
       "<matplotlib.figure.Figure at 0x21020ae65f8>"
      ]
     },
     "metadata": {},
     "output_type": "display_data"
    }
   ],
   "source": [
    "plot_pca_two_arrays(PCAdataAll[:,0], PCAdataAll[:,1], numUnhealth, numHealth, alpha=0.5)"
   ]
  },
  {
   "cell_type": "code",
   "execution_count": 839,
   "metadata": {},
   "outputs": [
    {
     "data": {
      "text/plain": [
       "<matplotlib.figure.Figure at 0x2101f9a2630>"
      ]
     },
     "metadata": {},
     "output_type": "display_data"
    },
    {
     "data": {
      "image/png": "[encoded data removed]",
      "text/plain": [
       "<matplotlib.figure.Figure at 0x2101f996940>"
      ]
     },
     "metadata": {},
     "output_type": "display_data"
    }
   ],
   "source": [
    "plot_pca_two_arrays(PCAdataNet[:,0], PCAdataNet[:,1], numUnhealth, numHealth, alpha=0.5)"
   ]
  },
  {
   "cell_type": "code",
   "execution_count": 840,
   "metadata": {},
   "outputs": [
    {
     "data": {
      "text/plain": [
       "<matplotlib.figure.Figure at 0x2101f7cc588>"
      ]
     },
     "metadata": {},
     "output_type": "display_data"
    },
    {
     "data": {
      "image/png": "[encoded data removed]",
      "text/plain": [
       "<matplotlib.figure.Figure at 0x2101f9a24e0>"
      ]
     },
     "metadata": {},
     "output_type": "display_data"
    }
   ],
   "source": [
    "plot_pca_two_arrays(PCAdataShape[:,0], PCAdataShape[:,1], numUnhealth, numHealth, alpha=0.5)"
   ]
  },
  {
   "cell_type": "markdown",
   "metadata": {},
   "source": [
    "# Classify K-Neighbors with 80% training and 20% validation"
   ]
  },
  {
   "cell_type": "code",
   "execution_count": 841,
   "metadata": {},
   "outputs": [],
   "source": [
    "import numpy as np\n",
    "import matplotlib.pyplot as plt\n",
    "from sklearn import neighbors, datasets, metrics"
   ]
  },
  {
   "cell_type": "markdown",
   "metadata": {},
   "source": [
    "### Randon Total Number of Health to Unhealth (52-52)"
   ]
  },
  {
   "cell_type": "code",
   "execution_count": 843,
   "metadata": {},
   "outputs": [],
   "source": [
    "k = 3            # Number of neighbors for the k-nearest neighbors classifier\n",
    "n_train = 42     # Number of objects for training\n",
    "n_validate = 10  # Number of objects for validation\n",
    "n_classes = 2    # Number of classes in the dataset"
   ]
  },
  {
   "cell_type": "markdown",
   "metadata": {},
   "source": [
    "### Random Choice to the major class"
   ]
  },
  {
   "cell_type": "code",
   "execution_count": 844,
   "metadata": {},
   "outputs": [],
   "source": [
    "arraySize = numHealth\n",
    "rangeSize = numUnhealth\n",
    "random_index = np.random.choice(rangeSize, arraySize, replace=False)"
   ]
  },
  {
   "cell_type": "markdown",
   "metadata": {},
   "source": [
    "### Area and Diameter properties"
   ]
  },
  {
   "cell_type": "code",
   "execution_count": 857,
   "metadata": {},
   "outputs": [],
   "source": [
    "allPropsShapeCombinedNormalized = zscore(allPropsShapeCombined)\n",
    "\n",
    "unHealthPropsShapeNormalized = allPropsShapeCombinedNormalized[0:numUnhealth]\n",
    "healthPropsShapeNormalized = allPropsShapeCombinedNormalized[numUnhealth:]\n",
    "\n",
    "unhealth_random_area = unHealthPropsShapeNormalized[:,0][random_index]\n",
    "unhealth_random_diameter = unHealthPropsShapeNormalized[:,3][random_index]\n",
    "\n",
    "health_random_area = healthPropsShapeNormalized[:,0]\n",
    "health_random_diameter = healthPropsShapeNormalized[:,3]\n",
    "\n",
    "area_diameter = []\n",
    "unhealth_area_diameter = []\n",
    "for i in range(arraySize):\n",
    "    row = []\n",
    "    row.append(unhealth_random_area[i])\n",
    "    row.append(unhealth_random_diameter[i])\n",
    "    \n",
    "    unhealth_area_diameter.append(row)\n",
    "    area_diameter.append(row)\n",
    "    \n",
    "health_area_diameter = []\n",
    "for i in range(arraySize):\n",
    "    row = []\n",
    "    row.append(health_random_area[i])\n",
    "    row.append(health_random_diameter[i])\n",
    "    \n",
    "    health_area_diameter.append(row)\n",
    "    area_diameter.append(row)\n",
    "    \n",
    "area_diameter = np.array(area_diameter)\n",
    "area_diameter_target = np.array([0]*numHealth + [1]*numHealth)    "
   ]
  },
  {
   "cell_type": "markdown",
   "metadata": {},
   "source": [
    "### Normalize Area and Diameter"
   ]
  },
  {
   "cell_type": "code",
   "execution_count": 858,
   "metadata": {},
   "outputs": [],
   "source": [
    "#area_diameter_normalized = np.zeros(area_diameter.shape)\n",
    "#for col in range(len(area_diameter[0])):\n",
    "#    area_diameter_normalized[:,col] = zscore(area_diameter[:,col])"
   ]
  },
  {
   "cell_type": "code",
   "execution_count": 904,
   "metadata": {},
   "outputs": [
    {
     "name": "stdout",
     "output_type": "stream",
     "text": [
      "Area and Diameter Acurrary\n",
      "0.7\n"
     ]
    }
   ],
   "source": [
    "properties = area_diameter_normalized\n",
    "\n",
    "# Split the dataset into training and validation\n",
    "res = misc.split_dataset(properties, classes=area_diameter_target, n_train=n_train)\n",
    "properties_train, properties_validate, classes_train, classes_validate = res\n",
    "\n",
    "# we create an instance of Neighbours Classifier and fit the data.\n",
    "clf = neighbors.KNeighborsClassifier(k)\n",
    "clf.fit(properties_train, classes_train)\n",
    "\n",
    "# Predict the class using the validation set\n",
    "classes_pred = clf.predict(properties_validate)\n",
    "\n",
    "# Get accuracy\n",
    "acc = metrics.accuracy_score(classes_validate, classes_pred)\n",
    "print(\"Area and Diameter Acurrary\")\n",
    "print(acc)"
   ]
  },
  {
   "cell_type": "markdown",
   "metadata": {},
   "source": [
    "### Only Shape Properties"
   ]
  },
  {
   "cell_type": "code",
   "execution_count": 906,
   "metadata": {},
   "outputs": [],
   "source": [
    "unhealth_random_all = unHealthPropsShapeNormalized[random_index]\n",
    "\n",
    "all_properties = []\n",
    "unhealth_all = []\n",
    "for r in range(arraySize):\n",
    "    row = []\n",
    "    for c in range(len(unhealth_random_all[0])):\n",
    "        row.append(unhealth_random_all[r][c])\n",
    "    \n",
    "    unhealth_all.append(row)\n",
    "    all_properties.append(row)\n",
    "    \n",
    "health_all = []\n",
    "for r in range(arraySize):\n",
    "    row = []\n",
    "    for c in range(len(healthPropsShapeNormalized[0])):\n",
    "        row.append(healthPropsShapeNormalized[r][c])\n",
    "    \n",
    "    health_all.append(row)\n",
    "    all_properties.append(row)\n",
    "\n",
    "all_properties = np.array(all_properties)\n",
    "all_properties_target = np.array([0]*numHealth + [1]*numHealth)    "
   ]
  },
  {
   "cell_type": "markdown",
   "metadata": {},
   "source": [
    "### Normalize all properties"
   ]
  },
  {
   "cell_type": "code",
   "execution_count": 907,
   "metadata": {},
   "outputs": [],
   "source": [
    "#all_properties_normalized = np.zeros(all_properties.shape)\n",
    "#for col in range(len(all_properties[0])):\n",
    "#    all_properties_normalized[:,col] = zscore(all_properties[:,col])"
   ]
  },
  {
   "cell_type": "code",
   "execution_count": 934,
   "metadata": {},
   "outputs": [
    {
     "name": "stdout",
     "output_type": "stream",
     "text": [
      "Shape Acurrary\n",
      "0.7\n"
     ]
    }
   ],
   "source": [
    "properties = all_properties_normalized\n",
    "\n",
    "# Split the dataset into training and validation\n",
    "res = misc.split_dataset(properties, classes=area_diameter_target, n_train=n_train)\n",
    "properties_train, properties_validate, classes_train, classes_validate = res\n",
    "\n",
    "# we create an instance of Neighbours Classifier and fit the data.\n",
    "clf = neighbors.KNeighborsClassifier(k)\n",
    "clf.fit(properties_train, classes_train)\n",
    "\n",
    "# Predict the class using the validation set\n",
    "classes_pred = clf.predict(properties_validate)\n",
    "\n",
    "# Get accuracy\n",
    "acc = metrics.accuracy_score(classes_validate, classes_pred)\n",
    "print(\"Shape Acurrary\")\n",
    "print(acc)"
   ]
  },
  {
   "cell_type": "markdown",
   "metadata": {},
   "source": [
    "### Shapes and Network "
   ]
  },
  {
   "cell_type": "code",
   "execution_count": 935,
   "metadata": {},
   "outputs": [
    {
     "ename": "NameError",
     "evalue": "name 'unHealthPropsNormalized' is not defined",
     "output_type": "error",
     "traceback": [
      "\u001b[1;31m---------------------------------------------------------------------------\u001b[0m",
      "\u001b[1;31mNameError\u001b[0m                                 Traceback (most recent call last)",
      "\u001b[1;32m<ipython-input-935-c32d50ee9a6d>\u001b[0m in \u001b[0;36m<module>\u001b[1;34m()\u001b[0m\n\u001b[1;32m----> 1\u001b[1;33m \u001b[0munhealth_random_all\u001b[0m \u001b[1;33m=\u001b[0m \u001b[0munHealthPropsNormalized\u001b[0m\u001b[1;33m[\u001b[0m\u001b[0mrandom_index\u001b[0m\u001b[1;33m]\u001b[0m\u001b[1;33m\u001b[0m\u001b[0m\n\u001b[0m\u001b[0;32m      2\u001b[0m \u001b[1;33m\u001b[0m\u001b[0m\n\u001b[0;32m      3\u001b[0m \u001b[0mall_properties\u001b[0m \u001b[1;33m=\u001b[0m \u001b[1;33m[\u001b[0m\u001b[1;33m]\u001b[0m\u001b[1;33m\u001b[0m\u001b[0m\n\u001b[0;32m      4\u001b[0m \u001b[1;32mfor\u001b[0m \u001b[0mr\u001b[0m \u001b[1;32min\u001b[0m \u001b[0mrange\u001b[0m\u001b[1;33m(\u001b[0m\u001b[0marraySize\u001b[0m\u001b[1;33m)\u001b[0m\u001b[1;33m:\u001b[0m\u001b[1;33m\u001b[0m\u001b[0m\n\u001b[0;32m      5\u001b[0m     \u001b[0mrow\u001b[0m \u001b[1;33m=\u001b[0m \u001b[1;33m[\u001b[0m\u001b[1;33m]\u001b[0m\u001b[1;33m\u001b[0m\u001b[0m\n",
      "\u001b[1;31mNameError\u001b[0m: name 'unHealthPropsNormalized' is not defined"
     ]
    }
   ],
   "source": [
    "\n",
    "\n",
    "unhealth_random_all = unHealthProps[random_index]\n",
    "\n",
    "all_properties = []\n",
    "for r in range(arraySize):\n",
    "    row = []\n",
    "    for c in range(len(unhealth_random_all[0])):\n",
    "        row.append(unhealth_random_all[r][c])\n",
    "    \n",
    "    all_properties.append(row)\n",
    "    \n",
    "health_all = []\n",
    "for r in range(arraySize):\n",
    "    row = []\n",
    "    for c in range(len(healthProps[0])):\n",
    "        row.append(healthPropsNormalized[r][c])\n",
    "    \n",
    "    all_properties.append(row)\n",
    "\n",
    "all_properties = np.array(all_properties)\n",
    "all_properties_target = np.array([0]*numHealth + [1]*numHealth)    "
   ]
  },
  {
   "cell_type": "markdown",
   "metadata": {},
   "source": [
    "### Normalize all properties"
   ]
  },
  {
   "cell_type": "code",
   "execution_count": 630,
   "metadata": {},
   "outputs": [],
   "source": [
    "all_properties_normalized = np.zeros(all_properties.shape)\n",
    "for col in range(len(all_properties[0])):\n",
    "    all_properties_normalized[:,col] = zscore(all_properties[:,col])"
   ]
  },
  {
   "cell_type": "code",
   "execution_count": 693,
   "metadata": {},
   "outputs": [
    {
     "name": "stdout",
     "output_type": "stream",
     "text": [
      "Shape and Net Acurrary\n",
      "0.95\n"
     ]
    }
   ],
   "source": [
    "properties = all_properties_normalized\n",
    "\n",
    "# Split the dataset into training and validation\n",
    "res = misc.split_dataset(properties, classes=area_diameter_target, n_train=n_train)\n",
    "properties_train, properties_validate, classes_train, classes_validate = res\n",
    "\n",
    "# we create an instance of Neighbours Classifier and fit the data.\n",
    "clf = neighbors.KNeighborsClassifier(k)\n",
    "clf.fit(properties_train, classes_train)\n",
    "\n",
    "# Predict the class using the validation set\n",
    "classes_pred = clf.predict(properties_validate)\n",
    "\n",
    "# Get accuracy\n",
    "acc = metrics.accuracy_score(classes_validate, classes_pred)\n",
    "print(\"Shape and Net Acurrary\")\n",
    "print(acc)"
   ]
  },
  {
   "cell_type": "markdown",
   "metadata": {},
   "source": [
    "### PCA"
   ]
  },
  {
   "cell_type": "code",
   "execution_count": 635,
   "metadata": {},
   "outputs": [
    {
     "data": {
      "text/plain": [
       "<matplotlib.figure.Figure at 0x2101a147cf8>"
      ]
     },
     "metadata": {},
     "output_type": "display_data"
    },
    {
     "data": {
      "image/png": "[encoded data removed]",
      "text/plain": [
       "<matplotlib.figure.Figure at 0x2101f0e7940>"
      ]
     },
     "metadata": {},
     "output_type": "display_data"
    }
   ],
   "source": [
    "PCAdataAllProperties, ev, main_ev = misc.PCA(properties, 2, False)\n",
    "plot_pca_two_arrays(PCAdataAllProperties[:,0], PCAdataAllProperties[:,1], numHealth, numHealth, alpha=0.5)"
   ]
  },
  {
   "cell_type": "code",
   "execution_count": null,
   "metadata": {},
   "outputs": [],
   "source": []
  }
 ],
 "metadata": {
  "kernelspec": {
   "display_name": "Python 3",
   "language": "python",
   "name": "python3"
  },
  "language_info": {
   "codemirror_mode": {
    "name": "ipython",
    "version": 3
   },
   "file_extension": ".py",
   "mimetype": "text/x-python",
   "name": "python",
   "nbconvert_exporter": "python",
   "pygments_lexer": "ipython3",
   "version": "3.6.4"
  }
 },
 "nbformat": 4,
 "nbformat_minor": 2
}
