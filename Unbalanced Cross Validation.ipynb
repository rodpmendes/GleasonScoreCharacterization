{
 "cells": [
  {
   "cell_type": "code",
   "execution_count": 1,
   "metadata": {},
   "outputs": [],
   "source": [
    "%load_ext autoreload\n",
    "%autoreload 2\n",
    "import numpy as np\n",
    "from unbalanced_cv import get_fold\n",
    "from sklearn.neighbors import KNeighborsClassifier"
   ]
  },
  {
   "cell_type": "code",
   "execution_count": 2,
   "metadata": {},
   "outputs": [],
   "source": [
    "# Generate some artificial data\n",
    "N1 = 10\n",
    "N2 = 15\n",
    "N = N1+N2\n",
    "\n",
    "# Data matrix containing only one feature: the indices of the samples\n",
    "# Used just for testing the algorithm\n",
    "data = np.array([np.arange(N)]).T                \n",
    "classes = np.array([0]*N1 + [1]*N2)"
   ]
  },
  {
   "cell_type": "code",
   "execution_count": 14,
   "metadata": {},
   "outputs": [
    {
     "data": {
      "text/plain": [
       "25"
      ]
     },
     "execution_count": 14,
     "metadata": {},
     "output_type": "execute_result"
    }
   ],
   "source": [
    "np.arange(N)"
   ]
  },
  {
   "cell_type": "code",
   "execution_count": 17,
   "metadata": {
    "scrolled": false
   },
   "outputs": [
    {
     "name": "stdout",
     "output_type": "stream",
     "text": [
      "Objects used for training:\n",
      "[[ 6]\n",
      " [ 2]\n",
      " [ 1]\n",
      " [ 4]\n",
      " [ 0]\n",
      " [10]\n",
      " [19]\n",
      " [18]\n",
      " [17]\n",
      " [20]]\n",
      "Classes of the objects used for training:\n",
      "[0 0 0 0 0 1 1 1 1 1]\n",
      "Objects used for testing:\n",
      "[[ 8]\n",
      " [ 5]\n",
      " [ 7]\n",
      " [ 9]\n",
      " [ 3]\n",
      " [12]\n",
      " [21]\n",
      " [15]\n",
      " [13]\n",
      " [24]\n",
      " [14]\n",
      " [23]\n",
      " [11]\n",
      " [22]\n",
      " [16]]\n",
      "Classes of the objects used for testing:\n",
      "[0 0 0 0 0 1 1 1 1 1 1 1 1 1 1]\n",
      "\n",
      "Objects used for training:\n",
      "[[ 8]\n",
      " [ 5]\n",
      " [ 7]\n",
      " [ 9]\n",
      " [ 3]\n",
      " [12]\n",
      " [21]\n",
      " [15]\n",
      " [13]\n",
      " [24]]\n",
      "Classes of the objects used for training:\n",
      "[0 0 0 0 0 1 1 1 1 1]\n",
      "Objects used for testing:\n",
      "[[ 6]\n",
      " [ 2]\n",
      " [ 1]\n",
      " [ 4]\n",
      " [ 0]\n",
      " [10]\n",
      " [19]\n",
      " [18]\n",
      " [17]\n",
      " [20]]\n",
      "Classes of the objects used for testing:\n",
      "[0 0 0 0 0 1 1 1 1 1]\n",
      "\n",
      "True\n",
      "0.96\n"
     ]
    }
   ],
   "source": [
    "num_folds = 2\n",
    "pred_classes = np.full(N, -1)      # Will store the classes predicted by the classifier\n",
    "for data_train, classes_train, data_test, classes_test, test_indices in get_fold(data, classes, num_folds):\n",
    "    \n",
    "    # Train classifier using data_train, classes_train\n",
    "    knn = KNeighborsClassifier(n_neighbors=3)\n",
    "    knn.fit(data_train, classes_train)\n",
    "    \n",
    "    # Test classifier using data_test, classes_test\n",
    "    pred = knn.predict(data_test)\n",
    "    \n",
    "    # Save predictions\n",
    "    pred_classes[test_indices] = pred\n",
    "    \n",
    "    # Print the indices used in each fold:\n",
    "    print(f'Objects used for training:\\n{data_train}')\n",
    "    print(f'Classes of the objects used for training:\\n{classes_train}')\n",
    "    print(f'Objects used for testing:\\n{data_test}')\n",
    "    print(f'Classes of the objects used for testing:\\n{classes_test}\\n')\n",
    "\n",
    "# All objects should have a predicted class\n",
    "print(np.sum(pred_classes>=0)==N)\n",
    "\n",
    "# `pred_classes` can then be compared with `classes` for verifying the accuracy of the classifier\n",
    "print(np.sum(classes==pred_classes)/N)"
   ]
  },
  {
   "cell_type": "code",
   "execution_count": 1,
   "metadata": {},
   "outputs": [
    {
     "name": "stdout",
     "output_type": "stream",
     "text": [
      "3.6.4\n"
     ]
    }
   ],
   "source": [
    "from platform import python_version\n",
    "\n",
    "print(python_version())"
   ]
  }
 ],
 "metadata": {
  "kernelspec": {
   "display_name": "Python 3",
   "language": "python",
   "name": "python3"
  },
  "language_info": {
   "codemirror_mode": {
    "name": "ipython",
    "version": 3
   },
   "file_extension": ".py",
   "mimetype": "text/x-python",
   "name": "python",
   "nbconvert_exporter": "python",
   "pygments_lexer": "ipython3",
   "version": "3.6.4"
  }
 },
 "nbformat": 4,
 "nbformat_minor": 4
}
