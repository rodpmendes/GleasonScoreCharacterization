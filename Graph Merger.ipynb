{
 "cells": [
  {
   "cell_type": "code",
   "execution_count": 3,
   "metadata": {},
   "outputs": [],
   "source": [
    "from graph_merger import merge_graphs, filename_to_label"
   ]
  },
  {
   "cell_type": "code",
   "execution_count": 4,
   "metadata": {},
   "outputs": [],
   "source": [
    "input_filenames = ['prostate_marked/3/results_radius_350/grafo_glands_properties_350r.gml',\n",
    "                   'prostate_marked/S07_40805_upper_10X_Snapshot_20151028_54_region_01/results_radius_350/grafo_glands_properties_350r.gml', \n",
    "                   'prostate_marked/S07_40805_upper_10X_Snapshot_20151028_54_region_11/results_radius_350/grafo_glands_properties_350r.gml',\n",
    "                   'prostate_marked/S07_41755_lower_10X_Snapshot_20151028_45_region_09/results_radius_350/grafo_glands_properties_350r.gml',\n",
    "                   'prostate_marked/S07_41755_lower_10X_Snapshot_20151028_45_region_10/results_radius_350/grafo_glands_properties_350r.gml',\n",
    "                   'prostate_marked/S07_41755_lower_10X_Snapshot_20151028_45_region_15/results_radius_350/grafo_glands_properties_350r.gml',\n",
    "                   'prostate_marked/S07_41755_upper_10X_Snapshot_20151028_44_region_02/results_radius_350/grafo_glands_properties_350r.gml', \n",
    "                   'prostate_marked/S07_41755_upper_10X_Snapshot_20151028_44_region_03/results_radius_350/grafo_glands_properties_350r.gml', \n",
    "                   'prostate_marked/S07_41755_upper_10X_Snapshot_20151028_44_region_04/results_radius_350/grafo_glands_properties_350r.gml', \n",
    "                   'prostate_marked/S07_41755_upper_10X_Snapshot_20151028_44_region_13/results_radius_350/grafo_glands_properties_350r.gml',\n",
    "                   'prostate_marked/S07_42991_lower_10X_Snapshot_20151028_47_region_08/results_radius_350/grafo_glands_properties_350r.gml', \n",
    "                   'prostate_marked/S07_42991_lower_10X_Snapshot_20151028_47_region_14/results_radius_350/grafo_glands_properties_350r.gml',\n",
    "                   'prostate_marked/S07_46186 10X_20151028_59/results_radius_350/grafo_glands_properties_350r.gml'\n",
    "                   ]\n",
    "output_filename = 'prostate_marked/merged_graphs/results_radius_350/grafo_glands_properties_350r.gml'\n",
    "\n",
    "merge_graphs(input_filenames, output_filename)"
   ]
  },
  {
   "cell_type": "code",
   "execution_count": 5,
   "metadata": {},
   "outputs": [],
   "source": [
    "input_filenames = ['prostate_marked/3/results_radius_350/grafo_glands_properties_350r.gml',\n",
    "                   'prostate_marked/S07_40805_upper_10X_Snapshot_20151028_54_region_01/results_radius_350/grafo_glands_properties_350r.gml', \n",
    "                   'prostate_marked/S07_40805_upper_10X_Snapshot_20151028_54_region_11/results_radius_350/grafo_glands_properties_350r.gml',\n",
    "                   ]\n",
    "output_filename = 'prostate_marked/sample_1/results_radius_350/grafo_glands_properties_350r.gml'\n",
    "\n",
    "merge_graphs(input_filenames, output_filename)"
   ]
  },
  {
   "cell_type": "code",
   "execution_count": 6,
   "metadata": {},
   "outputs": [],
   "source": [
    "input_filenames = [\n",
    "                   'prostate_marked/S07_46186 10X_20151028_59/results_radius_350/grafo_glands_properties_350r.gml'\n",
    "                   ]\n",
    "output_filename = 'prostate_marked/sample_2/results_radius_350/grafo_glands_properties_350r.gml'\n",
    "\n",
    "merge_graphs(input_filenames, output_filename)"
   ]
  },
  {
   "cell_type": "code",
   "execution_count": 7,
   "metadata": {},
   "outputs": [],
   "source": [
    "input_filenames = [\n",
    "                   'prostate_marked/S07_41755_lower_10X_Snapshot_20151028_45_region_09/results_radius_350/grafo_glands_properties_350r.gml',\n",
    "                   'prostate_marked/S07_41755_lower_10X_Snapshot_20151028_45_region_10/results_radius_350/grafo_glands_properties_350r.gml',\n",
    "                   'prostate_marked/S07_41755_lower_10X_Snapshot_20151028_45_region_15/results_radius_350/grafo_glands_properties_350r.gml',\n",
    "                   ]\n",
    "output_filename = 'prostate_marked/sample_3/results_radius_350/grafo_glands_properties_350r.gml'\n",
    "\n",
    "merge_graphs(input_filenames, output_filename)"
   ]
  },
  {
   "cell_type": "code",
   "execution_count": 8,
   "metadata": {},
   "outputs": [],
   "source": [
    "input_filenames = [\n",
    "                   'prostate_marked/S07_41755_upper_10X_Snapshot_20151028_44_region_02/results_radius_350/grafo_glands_properties_350r.gml', \n",
    "                   'prostate_marked/S07_41755_upper_10X_Snapshot_20151028_44_region_03/results_radius_350/grafo_glands_properties_350r.gml', \n",
    "                   'prostate_marked/S07_41755_upper_10X_Snapshot_20151028_44_region_04/results_radius_350/grafo_glands_properties_350r.gml', \n",
    "                   'prostate_marked/S07_41755_upper_10X_Snapshot_20151028_44_region_13/results_radius_350/grafo_glands_properties_350r.gml',\n",
    "                   ]\n",
    "output_filename = 'prostate_marked/sample_4/results_radius_350/grafo_glands_properties_350r.gml'\n",
    "\n",
    "merge_graphs(input_filenames, output_filename)"
   ]
  },
  {
   "cell_type": "code",
   "execution_count": 9,
   "metadata": {},
   "outputs": [],
   "source": [
    "input_filenames = [\n",
    "                   'prostate_marked/S07_42991_lower_10X_Snapshot_20151028_47_region_08/results_radius_350/grafo_glands_properties_350r.gml', \n",
    "                   'prostate_marked/S07_42991_lower_10X_Snapshot_20151028_47_region_14/results_radius_350/grafo_glands_properties_350r.gml',\n",
    "                   ]\n",
    "output_filename = 'prostate_marked/sample_5/results_radius_350/grafo_glands_properties_350r.gml'\n",
    "\n",
    "merge_graphs(input_filenames, output_filename)"
   ]
  },
  {
   "cell_type": "code",
   "execution_count": null,
   "metadata": {},
   "outputs": [],
   "source": []
  }
 ],
 "metadata": {
  "kernelspec": {
   "display_name": "Python 3",
   "language": "python",
   "name": "python3"
  },
  "language_info": {
   "codemirror_mode": {
    "name": "ipython",
    "version": 3
   },
   "file_extension": ".py",
   "mimetype": "text/x-python",
   "name": "python",
   "nbconvert_exporter": "python",
   "pygments_lexer": "ipython3",
   "version": "3.6.4"
  }
 },
 "nbformat": 4,
 "nbformat_minor": 2
}
